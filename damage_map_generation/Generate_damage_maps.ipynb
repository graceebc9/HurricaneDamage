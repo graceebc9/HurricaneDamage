{
 "cells": [
  {
   "cell_type": "code",
   "execution_count": null,
   "id": "6bbf76fa-7bff-4301-9995-b1eedb1e2796",
   "metadata": {},
   "outputs": [],
   "source": [
    "### Update directory when HurricaneDamage folder sits\n",
    "base_dir = '/Users/gracecolverd/mres_proj/'"
   ]
  },
  {
   "cell_type": "code",
   "execution_count": null,
   "id": "eaf11d68-06c9-4309-880e-b994ef140dec",
   "metadata": {},
   "outputs": [],
   "source": [
    "import sys\n",
    "sys.path.insert(0, base_dir+'HurricaneDamage/src/')\n",
    "\n",
    "# import utils  as uu\n",
    "from damage_maps import create_percentage_plots"
   ]
  },
  {
   "cell_type": "code",
   "execution_count": null,
   "id": "1d1f72bf-ed5c-4674-8899-c0b8b375410d",
   "metadata": {},
   "outputs": [],
   "source": [
    "#choose Geo-level of map and dataset to plot \n",
    "geo_level = 'census_tract'      #'block'\n",
    "dataset = '1b'              #'1a', '2a', '2b'\n"
   ]
  },
  {
   "cell_type": "code",
   "execution_count": null,
   "id": "03e378c0-2ecb-4c96-ac06-64bdf55de737",
   "metadata": {},
   "outputs": [],
   "source": [
    "create_percentage_plots( geo_level, dataset=dataset )\n",
    "\n",
    "    "
   ]
  },
  {
   "cell_type": "code",
   "execution_count": null,
   "id": "0b698e4c-191c-401a-9a8b-7bdbd68317ab",
   "metadata": {},
   "outputs": [],
   "source": []
  },
  {
   "cell_type": "code",
   "execution_count": null,
   "id": "da001f04-655a-407c-b946-51d2b05feb4d",
   "metadata": {},
   "outputs": [],
   "source": []
  }
 ],
 "metadata": {
  "kernelspec": {
   "display_name": "geo_env",
   "language": "python",
   "name": "geo_env"
  },
  "language_info": {
   "codemirror_mode": {
    "name": "ipython",
    "version": 3
   },
   "file_extension": ".py",
   "mimetype": "text/x-python",
   "name": "python",
   "nbconvert_exporter": "python",
   "pygments_lexer": "ipython3",
   "version": "3.10.0"
  }
 },
 "nbformat": 4,
 "nbformat_minor": 5
}
